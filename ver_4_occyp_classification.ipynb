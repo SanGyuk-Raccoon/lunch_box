{
  "nbformat": 4,
  "nbformat_minor": 0,
  "metadata": {
    "colab": {
      "name": "ver 4. occyp_classification",
      "provenance": [],
      "collapsed_sections": [],
      "authorship_tag": "ABX9TyOGFzFac1aMDnBmb1wwgKuS",
      "include_colab_link": true
    },
    "kernelspec": {
      "name": "python3",
      "display_name": "Python 3"
    },
    "language_info": {
      "name": "python"
    }
  },
  "cells": [
    {
      "cell_type": "markdown",
      "metadata": {
        "id": "view-in-github",
        "colab_type": "text"
      },
      "source": [
        "<a href=\"https://colab.research.google.com/github/SanGyuk-Raccoon/lunch_box/blob/master/ver_4_occyp_classification.ipynb\" target=\"_parent\"><img src=\"https://colab.research.google.com/assets/colab-badge.svg\" alt=\"Open In Colab\"/></a>"
      ]
    },
    {
      "cell_type": "code",
      "metadata": {
        "colab": {
          "base_uri": "https://localhost:8080/"
        },
        "id": "kRk6SG_t2xiI",
        "outputId": "c0c5b1aa-9e23-4d98-cd04-4a2ed99535d7"
      },
      "source": [
        "from google.colab import drive\n",
        "drive.mount('/content/drive')"
      ],
      "execution_count": null,
      "outputs": [
        {
          "output_type": "stream",
          "text": [
            "Mounted at /content/drive\n"
          ],
          "name": "stdout"
        }
      ]
    },
    {
      "cell_type": "code",
      "metadata": {
        "id": "V7PSiyMx2y-x"
      },
      "source": [
        "import warnings\n",
        "warnings.filterwarnings('ignore')\n",
        "import numpy as np\n",
        "import pandas as pd   \n",
        "import matplotlib.pyplot as plt\n",
        "import seaborn as sns\n",
        "\n",
        "from sklearn.preprocessing import OneHotEncoder, LabelEncoder\n",
        "\n",
        "from sklearn.model_selection import train_test_split\n",
        "from sklearn.model_selection import StratifiedKFold\n",
        "\n",
        "from lightgbm import LGBMClassifier\n",
        "import xgboost\n",
        "\n",
        "from sklearn.metrics import log_loss"
      ],
      "execution_count": null,
      "outputs": []
    },
    {
      "cell_type": "code",
      "metadata": {
        "id": "SFRPVU6k2z60"
      },
      "source": [
        "# Load DATA\n",
        "train = pd.read_csv(\"/content/drive/MyDrive/DACON/[월간 데이콘] 14. 신용카드 사용자 연체 예측 AI/train.csv\")\n",
        "\n",
        "train['occyp_type'] = train['occyp_type'].fillna('NONE')\n",
        "train.loc[train['DAYS_EMPLOYED'] > 0, 'occyp_type'] = 'NO_WORK'\n",
        "train.loc[(train['income_type'] == 'Student') & (train['occyp_type'] == 'NONE'), 'occyp_type'] = 'Laborers'"
      ],
      "execution_count": null,
      "outputs": []
    },
    {
      "cell_type": "code",
      "metadata": {
        "colab": {
          "base_uri": "https://localhost:8080/"
        },
        "id": "qytlAmuW3MVr",
        "outputId": "0a631d1c-d601-48ac-c210-3bde9ca6828a"
      },
      "source": [
        "# 1. 경력이 없는 사람은 직업군이 결측치임\n",
        "train.loc[train['DAYS_EMPLOYED'] > 0]['occyp_type'].value_counts()"
      ],
      "execution_count": null,
      "outputs": [
        {
          "output_type": "execute_result",
          "data": {
            "text/plain": [
              "Series([], Name: occyp_type, dtype: int64)"
            ]
          },
          "metadata": {
            "tags": []
          },
          "execution_count": 15
        }
      ]
    },
    {
      "cell_type": "code",
      "metadata": {
        "colab": {
          "base_uri": "https://localhost:8080/"
        },
        "id": "99etuJU12_gG",
        "outputId": "94819957-aa14-4515-ec6a-cbf08bf50b87"
      },
      "source": [
        "# 2. 경력이 없는 사람은 소득이 Pensioner임\n",
        "train.loc[train['DAYS_EMPLOYED'] > 0]['income_type'].value_counts()"
      ],
      "execution_count": null,
      "outputs": [
        {
          "output_type": "execute_result",
          "data": {
            "text/plain": [
              "Pensioner    4438\n",
              "Name: income_type, dtype: int64"
            ]
          },
          "metadata": {
            "tags": []
          },
          "execution_count": 17
        }
      ]
    },
    {
      "cell_type": "code",
      "metadata": {
        "colab": {
          "base_uri": "https://localhost:8080/",
          "height": 289
        },
        "id": "PIB49Jq_4BLr",
        "outputId": "28cebf3a-6a20-48f0-e383-ad5375281c8d"
      },
      "source": [
        "train.head()"
      ],
      "execution_count": null,
      "outputs": [
        {
          "output_type": "execute_result",
          "data": {
            "text/html": [
              "<div>\n",
              "<style scoped>\n",
              "    .dataframe tbody tr th:only-of-type {\n",
              "        vertical-align: middle;\n",
              "    }\n",
              "\n",
              "    .dataframe tbody tr th {\n",
              "        vertical-align: top;\n",
              "    }\n",
              "\n",
              "    .dataframe thead th {\n",
              "        text-align: right;\n",
              "    }\n",
              "</style>\n",
              "<table border=\"1\" class=\"dataframe\">\n",
              "  <thead>\n",
              "    <tr style=\"text-align: right;\">\n",
              "      <th></th>\n",
              "      <th>gender</th>\n",
              "      <th>car</th>\n",
              "      <th>reality</th>\n",
              "      <th>child_num</th>\n",
              "      <th>income_total</th>\n",
              "      <th>income_type</th>\n",
              "      <th>edu_type</th>\n",
              "      <th>family_type</th>\n",
              "      <th>house_type</th>\n",
              "      <th>DAYS_BIRTH</th>\n",
              "      <th>DAYS_EMPLOYED</th>\n",
              "      <th>FLAG_MOBIL</th>\n",
              "      <th>work_phone</th>\n",
              "      <th>phone</th>\n",
              "      <th>email</th>\n",
              "      <th>occyp_type</th>\n",
              "      <th>family_size</th>\n",
              "      <th>begin_month</th>\n",
              "      <th>credit</th>\n",
              "    </tr>\n",
              "  </thead>\n",
              "  <tbody>\n",
              "    <tr>\n",
              "      <th>0</th>\n",
              "      <td>F</td>\n",
              "      <td>N</td>\n",
              "      <td>N</td>\n",
              "      <td>0</td>\n",
              "      <td>202500.0</td>\n",
              "      <td>Commercial associate</td>\n",
              "      <td>Higher education</td>\n",
              "      <td>Married</td>\n",
              "      <td>Municipal apartment</td>\n",
              "      <td>-13899</td>\n",
              "      <td>-4709</td>\n",
              "      <td>1</td>\n",
              "      <td>0</td>\n",
              "      <td>0</td>\n",
              "      <td>0</td>\n",
              "      <td>NaN</td>\n",
              "      <td>2.0</td>\n",
              "      <td>-6.0</td>\n",
              "      <td>1.0</td>\n",
              "    </tr>\n",
              "    <tr>\n",
              "      <th>1</th>\n",
              "      <td>F</td>\n",
              "      <td>N</td>\n",
              "      <td>Y</td>\n",
              "      <td>1</td>\n",
              "      <td>247500.0</td>\n",
              "      <td>Commercial associate</td>\n",
              "      <td>Secondary / secondary special</td>\n",
              "      <td>Civil marriage</td>\n",
              "      <td>House / apartment</td>\n",
              "      <td>-11380</td>\n",
              "      <td>-1540</td>\n",
              "      <td>1</td>\n",
              "      <td>0</td>\n",
              "      <td>0</td>\n",
              "      <td>1</td>\n",
              "      <td>Laborers</td>\n",
              "      <td>3.0</td>\n",
              "      <td>-5.0</td>\n",
              "      <td>1.0</td>\n",
              "    </tr>\n",
              "    <tr>\n",
              "      <th>2</th>\n",
              "      <td>M</td>\n",
              "      <td>Y</td>\n",
              "      <td>Y</td>\n",
              "      <td>0</td>\n",
              "      <td>450000.0</td>\n",
              "      <td>Working</td>\n",
              "      <td>Higher education</td>\n",
              "      <td>Married</td>\n",
              "      <td>House / apartment</td>\n",
              "      <td>-19087</td>\n",
              "      <td>-4434</td>\n",
              "      <td>1</td>\n",
              "      <td>0</td>\n",
              "      <td>1</td>\n",
              "      <td>0</td>\n",
              "      <td>Managers</td>\n",
              "      <td>2.0</td>\n",
              "      <td>-22.0</td>\n",
              "      <td>2.0</td>\n",
              "    </tr>\n",
              "    <tr>\n",
              "      <th>3</th>\n",
              "      <td>F</td>\n",
              "      <td>N</td>\n",
              "      <td>Y</td>\n",
              "      <td>0</td>\n",
              "      <td>202500.0</td>\n",
              "      <td>Commercial associate</td>\n",
              "      <td>Secondary / secondary special</td>\n",
              "      <td>Married</td>\n",
              "      <td>House / apartment</td>\n",
              "      <td>-15088</td>\n",
              "      <td>-2092</td>\n",
              "      <td>1</td>\n",
              "      <td>0</td>\n",
              "      <td>1</td>\n",
              "      <td>0</td>\n",
              "      <td>Sales staff</td>\n",
              "      <td>2.0</td>\n",
              "      <td>-37.0</td>\n",
              "      <td>0.0</td>\n",
              "    </tr>\n",
              "    <tr>\n",
              "      <th>4</th>\n",
              "      <td>F</td>\n",
              "      <td>Y</td>\n",
              "      <td>Y</td>\n",
              "      <td>0</td>\n",
              "      <td>157500.0</td>\n",
              "      <td>State servant</td>\n",
              "      <td>Higher education</td>\n",
              "      <td>Married</td>\n",
              "      <td>House / apartment</td>\n",
              "      <td>-15037</td>\n",
              "      <td>-2105</td>\n",
              "      <td>1</td>\n",
              "      <td>0</td>\n",
              "      <td>0</td>\n",
              "      <td>0</td>\n",
              "      <td>Managers</td>\n",
              "      <td>2.0</td>\n",
              "      <td>-26.0</td>\n",
              "      <td>2.0</td>\n",
              "    </tr>\n",
              "  </tbody>\n",
              "</table>\n",
              "</div>"
            ],
            "text/plain": [
              "  gender car reality  child_num  ...   occyp_type family_size begin_month credit\n",
              "0      F   N       N          0  ...          NaN         2.0        -6.0    1.0\n",
              "1      F   N       Y          1  ...     Laborers         3.0        -5.0    1.0\n",
              "2      M   Y       Y          0  ...     Managers         2.0       -22.0    2.0\n",
              "3      F   N       Y          0  ...  Sales staff         2.0       -37.0    0.0\n",
              "4      F   Y       Y          0  ...     Managers         2.0       -26.0    2.0\n",
              "\n",
              "[5 rows x 19 columns]"
            ]
          },
          "metadata": {
            "tags": []
          },
          "execution_count": 59
        }
      ]
    },
    {
      "cell_type": "code",
      "metadata": {
        "id": "qRCo8zoCF2o3"
      },
      "source": [
        "def pre_processing(DATA) :\n",
        "\n",
        "  data = DATA\n",
        "  \n",
        "\n",
        "\n",
        "\n",
        "  data = data.drop(['index', 'credit'], axis = 1)\n",
        "\n",
        "  ## Delete FLAG_MOBIL : train + test에서 값이 1밖에 없음 -> 무의미함\n",
        "  data = data.drop('FLAG_MOBIL', axis = 1)\n",
        "\n",
        "\n",
        "  ## Mapping Categorical variable\n",
        "  # 1. gender\n",
        "  mapping_gender = {\n",
        "      'F' : 0, # Female = 0\n",
        "      'M' : 1  # Male = 1\n",
        "  }\n",
        "  data.gender = data.gender.map(mapping_gender)\n",
        "\n",
        "  # 2. car\n",
        "  mapping_car = {\n",
        "      'N' : 0,\n",
        "      'Y' : 1\n",
        "  }\n",
        "  data.car = data.car.map(mapping_car)\n",
        "\n",
        "  # 3. reality\n",
        "  mapping_reality = {\n",
        "      'N' : 0,\n",
        "      'Y' : 1\n",
        "  }\n",
        "  data.reality = data.reality.map(mapping_reality)\n",
        "\n",
        "  # 4. edu_type : Ordinal variable\n",
        "  mapping_edu_type = {\n",
        "    'Lower secondary' : 0, # 중학교 미만\n",
        "    'Secondary / secondary special' : 1, #중학교\n",
        "    'Incomplete higher' : 2, # 고등학교 중퇴\n",
        "    'Higher education' : 3, # 고등학교 졸업\n",
        "    'Academic degree' : 4 # 학사 이상\n",
        "  }\n",
        "  data.edu_type_ord = data.edu_type.map(mapping_edu_type)\n",
        "\n",
        "  ## one-hot encoding\n",
        "  var = ['income_type',\n",
        "        'family_type',\n",
        "          'edu_type',\n",
        "        'house_type']\n",
        "\n",
        "  onehot_encoder = OneHotEncoder()\n",
        "  onehot_encoder.fit(data.loc[:, var])\n",
        "  onehot_df = pd.DataFrame(onehot_encoder.transform(data.loc[:,var]).toarray(), \n",
        "              columns=onehot_encoder.get_feature_names(var))\n",
        "\n",
        "  data.drop(var, inplace = True, axis = 1)\n",
        "  data = pd.concat([data, onehot_df], axis = 1)\n",
        "\n",
        "  ## child num. 5를 최대로 설정\n",
        "  data.loc[data['child_num'] > 5,'child_num'] = 5\n",
        "\n",
        "  ## family_size 7을 최대로 설정\n",
        "  data.loc[data['family_size'] > 7,'family_size'] = 7\n",
        "\n",
        "  ## DAYS_BIRTH -> 나이(월)\n",
        "  data['age'] = -data['DAYS_BIRTH'] / (365 / 12)\n",
        "  #data.drop('DAYS_BIRTH', axis = 1, inplace = True)\n",
        "\n",
        "  ## DAYS_EMPLOYES -> 경력(월)\n",
        "  data['career'] = data['DAYS_EMPLOYED'].apply( lambda x : - x / (365 / 12) if x < 0 else 0)\n",
        "  #data.drop('DAYS_EMPLOYED', axis = 1, inplace = True)\n",
        "\n",
        "  ## Begin_month -> 양수로\n",
        "  data['begin_month'] = - data['begin_month']\n",
        "\n",
        "  ##########################################################################################\n",
        "  ## baseline\n",
        "\n",
        "  data['log_income_total'] = np.log(data['income_total'])\n",
        "\n",
        "\n",
        "\n",
        "  return data"
      ],
      "execution_count": null,
      "outputs": []
    },
    {
      "cell_type": "code",
      "metadata": {
        "id": "zL46Q55aGhsp"
      },
      "source": [
        "\n",
        "data = pre_processing(train)\n"
      ],
      "execution_count": null,
      "outputs": []
    },
    {
      "cell_type": "code",
      "metadata": {
        "colab": {
          "base_uri": "https://localhost:8080/"
        },
        "id": "1JROL5acSaqz",
        "outputId": "9d451f28-a931-4bde-a417-a2059bcb0124"
      },
      "source": [
        ""
      ],
      "execution_count": null,
      "outputs": [
        {
          "output_type": "execute_result",
          "data": {
            "text/plain": [
              "14       NO_WORK\n",
              "18       NO_WORK\n",
              "21       NO_WORK\n",
              "24       NO_WORK\n",
              "46       NO_WORK\n",
              "          ...   \n",
              "26431    NO_WORK\n",
              "26432    NO_WORK\n",
              "26439    NO_WORK\n",
              "26441    NO_WORK\n",
              "26443    NO_WORK\n",
              "Name: occyp_type, Length: 4438, dtype: object"
            ]
          },
          "metadata": {
            "tags": []
          },
          "execution_count": 157
        }
      ]
    },
    {
      "cell_type": "code",
      "metadata": {
        "id": "aiaDI5ZSQLgI"
      },
      "source": [
        "test = data.loc[data['occyp_type'] == 'NONE']\n",
        "train = data.loc[data['occyp_type'] != 'NONE']"
      ],
      "execution_count": null,
      "outputs": []
    },
    {
      "cell_type": "code",
      "metadata": {
        "id": "Y28OSUpTF2dY"
      },
      "source": [
        "Label_encoder = LabelEncoder()\n",
        "Label_encoder.fit(train['occyp_type'])\n",
        "y_train_occp = Label_encoder.transform(train['occyp_type'])\n",
        "\n",
        "X_train_occp = train.drop('occyp_type', axis = 1)\n",
        "\n",
        "\n",
        "X_train, X_valid, y_train, y_valid = train_test_split(X_train_occp,\n",
        "                                                      y_train_occp,\n",
        "                                                      test_size=0.2,\n",
        "                                                      shuffle = True,\n",
        "                                                      stratify=y_train_occp,\n",
        "                                                      random_state=2)"
      ],
      "execution_count": null,
      "outputs": []
    },
    {
      "cell_type": "code",
      "metadata": {
        "colab": {
          "base_uri": "https://localhost:8080/"
        },
        "id": "4yMFnyaQHWTF",
        "outputId": "2e230888-d43d-42ad-db10-ba9379cf7812"
      },
      "source": [
        "# xgb model\n",
        "dtrain = xgboost.DMatrix(data = X_train, label = y_train)\n",
        "dvalid = xgboost.DMatrix(data = X_valid, label = y_valid)\n",
        "\n",
        "eval_list = [(dtrain, 'train'),\n",
        "             (dvalid, 'valid')]\n",
        "\n",
        "\n",
        "params = {\n",
        "    'max_depth' : 8,\n",
        "    'eta' : 0.1,\n",
        "    'objective' : 'multi:softprob',\n",
        "    'eval_metric' : 'mlogloss',\n",
        "    'early_stoppings' : 100,\n",
        "    'num_class' : 19,\n",
        "    'sub_sample' : 0.8\n",
        "}\n",
        "xgb_model_occp = xgboost.train(params = params,\n",
        "                      dtrain = dtrain,\n",
        "                      evals = eval_list,\n",
        "                      num_boost_round = 400,\n",
        "                      verbose_eval = 10\n",
        "                      )"
      ],
      "execution_count": null,
      "outputs": [
        {
          "output_type": "stream",
          "text": [
            "[0]\ttrain-mlogloss:2.56644\tvalid-mlogloss:2.58073\n",
            "[10]\ttrain-mlogloss:1.5081\tvalid-mlogloss:1.59576\n",
            "[20]\ttrain-mlogloss:1.13974\tvalid-mlogloss:1.26347\n",
            "[30]\ttrain-mlogloss:0.942541\tvalid-mlogloss:1.09127\n",
            "[40]\ttrain-mlogloss:0.815137\tvalid-mlogloss:0.983227\n",
            "[50]\ttrain-mlogloss:0.725974\tvalid-mlogloss:0.910322\n",
            "[60]\ttrain-mlogloss:0.65249\tvalid-mlogloss:0.851077\n",
            "[70]\ttrain-mlogloss:0.595583\tvalid-mlogloss:0.806199\n",
            "[80]\ttrain-mlogloss:0.546516\tvalid-mlogloss:0.768317\n",
            "[90]\ttrain-mlogloss:0.503555\tvalid-mlogloss:0.734723\n",
            "[100]\ttrain-mlogloss:0.46673\tvalid-mlogloss:0.70731\n",
            "[110]\ttrain-mlogloss:0.431851\tvalid-mlogloss:0.679396\n",
            "[120]\ttrain-mlogloss:0.400765\tvalid-mlogloss:0.656341\n",
            "[130]\ttrain-mlogloss:0.368263\tvalid-mlogloss:0.631092\n",
            "[140]\ttrain-mlogloss:0.343639\tvalid-mlogloss:0.613222\n",
            "[150]\ttrain-mlogloss:0.32105\tvalid-mlogloss:0.595902\n",
            "[160]\ttrain-mlogloss:0.300391\tvalid-mlogloss:0.579325\n",
            "[170]\ttrain-mlogloss:0.280488\tvalid-mlogloss:0.564026\n",
            "[180]\ttrain-mlogloss:0.260972\tvalid-mlogloss:0.548956\n",
            "[190]\ttrain-mlogloss:0.24338\tvalid-mlogloss:0.537434\n",
            "[200]\ttrain-mlogloss:0.227947\tvalid-mlogloss:0.52524\n",
            "[210]\ttrain-mlogloss:0.213658\tvalid-mlogloss:0.514351\n",
            "[220]\ttrain-mlogloss:0.198474\tvalid-mlogloss:0.502527\n",
            "[230]\ttrain-mlogloss:0.185892\tvalid-mlogloss:0.492317\n",
            "[240]\ttrain-mlogloss:0.173207\tvalid-mlogloss:0.482067\n",
            "[250]\ttrain-mlogloss:0.162314\tvalid-mlogloss:0.47398\n",
            "[260]\ttrain-mlogloss:0.152829\tvalid-mlogloss:0.467087\n",
            "[270]\ttrain-mlogloss:0.142712\tvalid-mlogloss:0.460063\n",
            "[280]\ttrain-mlogloss:0.135016\tvalid-mlogloss:0.455118\n",
            "[290]\ttrain-mlogloss:0.126622\tvalid-mlogloss:0.448852\n",
            "[300]\ttrain-mlogloss:0.119426\tvalid-mlogloss:0.443559\n",
            "[310]\ttrain-mlogloss:0.113317\tvalid-mlogloss:0.439014\n",
            "[320]\ttrain-mlogloss:0.107224\tvalid-mlogloss:0.434806\n",
            "[330]\ttrain-mlogloss:0.101233\tvalid-mlogloss:0.430415\n",
            "[340]\ttrain-mlogloss:0.09622\tvalid-mlogloss:0.427554\n",
            "[350]\ttrain-mlogloss:0.091897\tvalid-mlogloss:0.424699\n",
            "[360]\ttrain-mlogloss:0.087157\tvalid-mlogloss:0.421348\n",
            "[370]\ttrain-mlogloss:0.08289\tvalid-mlogloss:0.418852\n",
            "[380]\ttrain-mlogloss:0.078507\tvalid-mlogloss:0.415785\n",
            "[390]\ttrain-mlogloss:0.074599\tvalid-mlogloss:0.413429\n",
            "[399]\ttrain-mlogloss:0.071787\tvalid-mlogloss:0.411999\n"
          ],
          "name": "stdout"
        }
      ]
    },
    {
      "cell_type": "code",
      "metadata": {
        "colab": {
          "base_uri": "https://localhost:8080/"
        },
        "id": "7TloNnBCNx6-",
        "outputId": "cbb3b204-47ef-4d09-c45a-883e815917a5"
      },
      "source": [
        "data['occyp_type'].value_counts()"
      ],
      "execution_count": null,
      "outputs": [
        {
          "output_type": "execute_result",
          "data": {
            "text/plain": [
              "NONE                     8170\n",
              "Laborers                 4513\n",
              "Core staff               2646\n",
              "Sales staff              2539\n",
              "Managers                 2167\n",
              "Drivers                  1575\n",
              "High skill tech staff    1040\n",
              "Accountants               902\n",
              "Medicine staff            864\n",
              "Cooking staff             457\n",
              "Security staff            424\n",
              "Cleaning staff            403\n",
              "Private service staff     243\n",
              "Low-skill Laborers        127\n",
              "Waiters/barmen staff      124\n",
              "Secretaries                97\n",
              "Realty agents              63\n",
              "HR staff                   62\n",
              "IT staff                   41\n",
              "Name: occyp_type, dtype: int64"
            ]
          },
          "metadata": {
            "tags": []
          },
          "execution_count": 127
        }
      ]
    },
    {
      "cell_type": "code",
      "metadata": {
        "colab": {
          "base_uri": "https://localhost:8080/"
        },
        "id": "Njz9_D7xJZRa",
        "outputId": "f7fdcb97-9e98-4cc3-c8c6-909b16ddae0e"
      },
      "source": [
        "X_test_occp = test.drop(['occyp_type'], axis = 1)\n",
        "dtest = xgboost.DMatrix(data = X_test_occp)\n",
        "preds = xgb_model_occp.predict(dtest)\n",
        "best_preds = np.asarray([np.argmax(line) for line in preds])\n"
      ],
      "execution_count": null,
      "outputs": [
        {
          "output_type": "execute_result",
          "data": {
            "text/plain": [
              "array([ 8, 10, 15, ...,  3,  8, 17])"
            ]
          },
          "metadata": {
            "tags": []
          },
          "execution_count": 164
        }
      ]
    },
    {
      "cell_type": "code",
      "metadata": {
        "id": "FpNtbe1_L74D"
      },
      "source": [
        "occyp_pred = Label_encoder.inverse_transform(best_preds)"
      ],
      "execution_count": null,
      "outputs": []
    },
    {
      "cell_type": "code",
      "metadata": {
        "id": "4Zwj74I8V6Cr"
      },
      "source": [
        "# Load DATA\n",
        "train = pd.read_csv(\"/content/drive/MyDrive/DACON/[월간 데이콘] 14. 신용카드 사용자 연체 예측 AI/train.csv\")\n",
        "\n",
        "train['occyp_type'] = train['occyp_type'].fillna('NONE')\n",
        "train.loc[train['DAYS_EMPLOYED'] > 0, 'occyp_type'] = 'NO_WORK'\n",
        "train.loc[(train['income_type'] == 'Student') & (train['occyp_type'] == 'NONE'), 'occyp_type'] = 'Laborers'"
      ],
      "execution_count": null,
      "outputs": []
    },
    {
      "cell_type": "code",
      "metadata": {
        "id": "xXHBqLADVlKk"
      },
      "source": [
        "train.loc[train['occyp_type'] == 'NONE', 'occyp_type'] = occyp_pred"
      ],
      "execution_count": null,
      "outputs": []
    },
    {
      "cell_type": "code",
      "metadata": {
        "colab": {
          "base_uri": "https://localhost:8080/"
        },
        "id": "GT_-Ah-QWcNr",
        "outputId": "88d5d37b-7506-4f24-da2e-e00348381c47"
      },
      "source": [
        "train.isnull().sum(axis = 0)"
      ],
      "execution_count": null,
      "outputs": [
        {
          "output_type": "execute_result",
          "data": {
            "text/plain": [
              "index            0\n",
              "gender           0\n",
              "car              0\n",
              "reality          0\n",
              "child_num        0\n",
              "income_total     0\n",
              "income_type      0\n",
              "edu_type         0\n",
              "family_type      0\n",
              "house_type       0\n",
              "DAYS_BIRTH       0\n",
              "DAYS_EMPLOYED    0\n",
              "FLAG_MOBIL       0\n",
              "work_phone       0\n",
              "phone            0\n",
              "email            0\n",
              "occyp_type       0\n",
              "family_size      0\n",
              "begin_month      0\n",
              "credit           0\n",
              "dtype: int64"
            ]
          },
          "metadata": {
            "tags": []
          },
          "execution_count": 177
        }
      ]
    },
    {
      "cell_type": "code",
      "metadata": {
        "colab": {
          "base_uri": "https://localhost:8080/",
          "height": 289
        },
        "id": "3ze3cSwaWlMu",
        "outputId": "82c9c99a-4474-45d2-e72f-6388499f1b6a"
      },
      "source": [
        "train.head()"
      ],
      "execution_count": null,
      "outputs": [
        {
          "output_type": "execute_result",
          "data": {
            "text/html": [
              "<div>\n",
              "<style scoped>\n",
              "    .dataframe tbody tr th:only-of-type {\n",
              "        vertical-align: middle;\n",
              "    }\n",
              "\n",
              "    .dataframe tbody tr th {\n",
              "        vertical-align: top;\n",
              "    }\n",
              "\n",
              "    .dataframe thead th {\n",
              "        text-align: right;\n",
              "    }\n",
              "</style>\n",
              "<table border=\"1\" class=\"dataframe\">\n",
              "  <thead>\n",
              "    <tr style=\"text-align: right;\">\n",
              "      <th></th>\n",
              "      <th>index</th>\n",
              "      <th>gender</th>\n",
              "      <th>car</th>\n",
              "      <th>reality</th>\n",
              "      <th>child_num</th>\n",
              "      <th>income_total</th>\n",
              "      <th>income_type</th>\n",
              "      <th>edu_type</th>\n",
              "      <th>family_type</th>\n",
              "      <th>house_type</th>\n",
              "      <th>DAYS_BIRTH</th>\n",
              "      <th>DAYS_EMPLOYED</th>\n",
              "      <th>FLAG_MOBIL</th>\n",
              "      <th>work_phone</th>\n",
              "      <th>phone</th>\n",
              "      <th>email</th>\n",
              "      <th>occyp_type</th>\n",
              "      <th>family_size</th>\n",
              "      <th>begin_month</th>\n",
              "      <th>credit</th>\n",
              "    </tr>\n",
              "  </thead>\n",
              "  <tbody>\n",
              "    <tr>\n",
              "      <th>0</th>\n",
              "      <td>0</td>\n",
              "      <td>F</td>\n",
              "      <td>N</td>\n",
              "      <td>N</td>\n",
              "      <td>0</td>\n",
              "      <td>202500.0</td>\n",
              "      <td>Commercial associate</td>\n",
              "      <td>Higher education</td>\n",
              "      <td>Married</td>\n",
              "      <td>Municipal apartment</td>\n",
              "      <td>-13899</td>\n",
              "      <td>-4709</td>\n",
              "      <td>1</td>\n",
              "      <td>0</td>\n",
              "      <td>0</td>\n",
              "      <td>0</td>\n",
              "      <td>Laborers</td>\n",
              "      <td>2.0</td>\n",
              "      <td>-6.0</td>\n",
              "      <td>1.0</td>\n",
              "    </tr>\n",
              "    <tr>\n",
              "      <th>1</th>\n",
              "      <td>1</td>\n",
              "      <td>F</td>\n",
              "      <td>N</td>\n",
              "      <td>Y</td>\n",
              "      <td>1</td>\n",
              "      <td>247500.0</td>\n",
              "      <td>Commercial associate</td>\n",
              "      <td>Secondary / secondary special</td>\n",
              "      <td>Civil marriage</td>\n",
              "      <td>House / apartment</td>\n",
              "      <td>-11380</td>\n",
              "      <td>-1540</td>\n",
              "      <td>1</td>\n",
              "      <td>0</td>\n",
              "      <td>0</td>\n",
              "      <td>1</td>\n",
              "      <td>Laborers</td>\n",
              "      <td>3.0</td>\n",
              "      <td>-5.0</td>\n",
              "      <td>1.0</td>\n",
              "    </tr>\n",
              "    <tr>\n",
              "      <th>2</th>\n",
              "      <td>2</td>\n",
              "      <td>M</td>\n",
              "      <td>Y</td>\n",
              "      <td>Y</td>\n",
              "      <td>0</td>\n",
              "      <td>450000.0</td>\n",
              "      <td>Working</td>\n",
              "      <td>Higher education</td>\n",
              "      <td>Married</td>\n",
              "      <td>House / apartment</td>\n",
              "      <td>-19087</td>\n",
              "      <td>-4434</td>\n",
              "      <td>1</td>\n",
              "      <td>0</td>\n",
              "      <td>1</td>\n",
              "      <td>0</td>\n",
              "      <td>Managers</td>\n",
              "      <td>2.0</td>\n",
              "      <td>-22.0</td>\n",
              "      <td>2.0</td>\n",
              "    </tr>\n",
              "    <tr>\n",
              "      <th>3</th>\n",
              "      <td>3</td>\n",
              "      <td>F</td>\n",
              "      <td>N</td>\n",
              "      <td>Y</td>\n",
              "      <td>0</td>\n",
              "      <td>202500.0</td>\n",
              "      <td>Commercial associate</td>\n",
              "      <td>Secondary / secondary special</td>\n",
              "      <td>Married</td>\n",
              "      <td>House / apartment</td>\n",
              "      <td>-15088</td>\n",
              "      <td>-2092</td>\n",
              "      <td>1</td>\n",
              "      <td>0</td>\n",
              "      <td>1</td>\n",
              "      <td>0</td>\n",
              "      <td>Sales staff</td>\n",
              "      <td>2.0</td>\n",
              "      <td>-37.0</td>\n",
              "      <td>0.0</td>\n",
              "    </tr>\n",
              "    <tr>\n",
              "      <th>4</th>\n",
              "      <td>4</td>\n",
              "      <td>F</td>\n",
              "      <td>Y</td>\n",
              "      <td>Y</td>\n",
              "      <td>0</td>\n",
              "      <td>157500.0</td>\n",
              "      <td>State servant</td>\n",
              "      <td>Higher education</td>\n",
              "      <td>Married</td>\n",
              "      <td>House / apartment</td>\n",
              "      <td>-15037</td>\n",
              "      <td>-2105</td>\n",
              "      <td>1</td>\n",
              "      <td>0</td>\n",
              "      <td>0</td>\n",
              "      <td>0</td>\n",
              "      <td>Managers</td>\n",
              "      <td>2.0</td>\n",
              "      <td>-26.0</td>\n",
              "      <td>2.0</td>\n",
              "    </tr>\n",
              "  </tbody>\n",
              "</table>\n",
              "</div>"
            ],
            "text/plain": [
              "   index gender car reality  ...   occyp_type  family_size begin_month credit\n",
              "0      0      F   N       N  ...     Laborers          2.0        -6.0    1.0\n",
              "1      1      F   N       Y  ...     Laborers          3.0        -5.0    1.0\n",
              "2      2      M   Y       Y  ...     Managers          2.0       -22.0    2.0\n",
              "3      3      F   N       Y  ...  Sales staff          2.0       -37.0    0.0\n",
              "4      4      F   Y       Y  ...     Managers          2.0       -26.0    2.0\n",
              "\n",
              "[5 rows x 20 columns]"
            ]
          },
          "metadata": {
            "tags": []
          },
          "execution_count": 178
        }
      ]
    },
    {
      "cell_type": "code",
      "metadata": {
        "id": "tmpKw61PWugH"
      },
      "source": [
        "train.to_csv(\"/content/drive/MyDrive/DACON/[월간 데이콘] 14. 신용카드 사용자 연체 예측 AI/train_update.csv\", index = False)"
      ],
      "execution_count": null,
      "outputs": []
    },
    {
      "cell_type": "code",
      "metadata": {
        "colab": {
          "base_uri": "https://localhost:8080/",
          "height": 35
        },
        "id": "cjf6_ZLoYMgn",
        "outputId": "74603f08-8276-4270-ab4a-6e4195013bac"
      },
      "source": [
        "xgb_model_occp.eval(dvalid)"
      ],
      "execution_count": 188,
      "outputs": [
        {
          "output_type": "execute_result",
          "data": {
            "application/vnd.google.colaboratory.intrinsic+json": {
              "type": "string"
            },
            "text/plain": [
              "'[0]\\teval-mlogloss:0.411999'"
            ]
          },
          "metadata": {
            "tags": []
          },
          "execution_count": 188
        }
      ]
    }
  ]
}